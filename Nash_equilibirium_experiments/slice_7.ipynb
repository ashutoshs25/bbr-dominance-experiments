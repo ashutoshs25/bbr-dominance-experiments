{
 "cells": [
  {
   "cell_type": "markdown",
   "id": "c64810f5-0be7-4469-9abc-03113e3fc7f9",
   "metadata": {},
   "source": [
    "## Prepare a line network"
   ]
  },
  {
   "cell_type": "code",
   "execution_count": 1,
   "id": "510d0ea7-168d-471f-b263-ba08fcc5db62",
   "metadata": {},
   "outputs": [
    {
     "data": {
      "text/html": [
       "<style type=\"text/css\">\n",
       "#T_66d5b tr:nth-child(even) {\n",
       "  background: #dbf3ff;\n",
       "  color: #231f20;\n",
       "}\n",
       "#T_66d5b tr:nth-child(odd) {\n",
       "  background: #ffffff;\n",
       "  color: #231f20;\n",
       "}\n",
       "#T_66d5b caption {\n",
       "  text-align: center;\n",
       "  font-size: 150%;\n",
       "}\n",
       "#T_66d5b_row0_col0, #T_66d5b_row0_col1, #T_66d5b_row1_col0, #T_66d5b_row1_col1, #T_66d5b_row2_col0, #T_66d5b_row2_col1, #T_66d5b_row3_col0, #T_66d5b_row3_col1, #T_66d5b_row4_col0, #T_66d5b_row4_col1, #T_66d5b_row5_col0, #T_66d5b_row5_col1, #T_66d5b_row6_col0, #T_66d5b_row6_col1, #T_66d5b_row7_col0, #T_66d5b_row7_col1, #T_66d5b_row8_col0, #T_66d5b_row8_col1, #T_66d5b_row9_col0, #T_66d5b_row9_col1, #T_66d5b_row10_col0, #T_66d5b_row10_col1, #T_66d5b_row11_col0, #T_66d5b_row11_col1, #T_66d5b_row12_col0, #T_66d5b_row12_col1 {\n",
       "  text-align: left;\n",
       "  border: 1px #231f20 solid !important;\n",
       "  overwrite: False;\n",
       "}\n",
       "</style>\n",
       "<table id=\"T_66d5b\">\n",
       "  <caption>FABlib Config</caption>\n",
       "  <thead>\n",
       "  </thead>\n",
       "  <tbody>\n",
       "    <tr>\n",
       "      <td id=\"T_66d5b_row0_col0\" class=\"data row0 col0\" >Credential Manager</td>\n",
       "      <td id=\"T_66d5b_row0_col1\" class=\"data row0 col1\" >cm.fabric-testbed.net</td>\n",
       "    </tr>\n",
       "    <tr>\n",
       "      <td id=\"T_66d5b_row1_col0\" class=\"data row1 col0\" >Orchestrator</td>\n",
       "      <td id=\"T_66d5b_row1_col1\" class=\"data row1 col1\" >orchestrator.fabric-testbed.net</td>\n",
       "    </tr>\n",
       "    <tr>\n",
       "      <td id=\"T_66d5b_row2_col0\" class=\"data row2 col0\" >Token File</td>\n",
       "      <td id=\"T_66d5b_row2_col1\" class=\"data row2 col1\" >/home/fabric/.tokens.json</td>\n",
       "    </tr>\n",
       "    <tr>\n",
       "      <td id=\"T_66d5b_row3_col0\" class=\"data row3 col0\" >Project ID</td>\n",
       "      <td id=\"T_66d5b_row3_col1\" class=\"data row3 col1\" >073ee843-2310-45bd-a01f-a15d808827dc</td>\n",
       "    </tr>\n",
       "    <tr>\n",
       "      <td id=\"T_66d5b_row4_col0\" class=\"data row4 col0\" >Bastion Username</td>\n",
       "      <td id=\"T_66d5b_row4_col1\" class=\"data row4 col1\" >ashusri_0000051121</td>\n",
       "    </tr>\n",
       "    <tr>\n",
       "      <td id=\"T_66d5b_row5_col0\" class=\"data row5 col0\" >Bastion Private Key File</td>\n",
       "      <td id=\"T_66d5b_row5_col1\" class=\"data row5 col1\" >/home/fabric/work/fabric_config/fabric_bastion_key</td>\n",
       "    </tr>\n",
       "    <tr>\n",
       "      <td id=\"T_66d5b_row6_col0\" class=\"data row6 col0\" >Bastion Host</td>\n",
       "      <td id=\"T_66d5b_row6_col1\" class=\"data row6 col1\" >bastion-2.fabric-testbed.net</td>\n",
       "    </tr>\n",
       "    <tr>\n",
       "      <td id=\"T_66d5b_row7_col0\" class=\"data row7 col0\" >Bastion Private Key Passphrase</td>\n",
       "      <td id=\"T_66d5b_row7_col1\" class=\"data row7 col1\" >None</td>\n",
       "    </tr>\n",
       "    <tr>\n",
       "      <td id=\"T_66d5b_row8_col0\" class=\"data row8 col0\" >Slice Public Key File</td>\n",
       "      <td id=\"T_66d5b_row8_col1\" class=\"data row8 col1\" >/home/fabric/work/fabric_config/slice_key.pub</td>\n",
       "    </tr>\n",
       "    <tr>\n",
       "      <td id=\"T_66d5b_row9_col0\" class=\"data row9 col0\" >Slice Private Key File</td>\n",
       "      <td id=\"T_66d5b_row9_col1\" class=\"data row9 col1\" >/home/fabric/work/fabric_config/slice_key</td>\n",
       "    </tr>\n",
       "    <tr>\n",
       "      <td id=\"T_66d5b_row10_col0\" class=\"data row10 col0\" >Slice Private Key Passphrase</td>\n",
       "      <td id=\"T_66d5b_row10_col1\" class=\"data row10 col1\" >None</td>\n",
       "    </tr>\n",
       "    <tr>\n",
       "      <td id=\"T_66d5b_row11_col0\" class=\"data row11 col0\" >Log File</td>\n",
       "      <td id=\"T_66d5b_row11_col1\" class=\"data row11 col1\" >/tmp/fablib/fablib.log</td>\n",
       "    </tr>\n",
       "    <tr>\n",
       "      <td id=\"T_66d5b_row12_col0\" class=\"data row12 col0\" >Log Level</td>\n",
       "      <td id=\"T_66d5b_row12_col1\" class=\"data row12 col1\" >INFO</td>\n",
       "    </tr>\n",
       "  </tbody>\n",
       "</table>\n"
      ],
      "text/plain": [
       "<pandas.io.formats.style.Styler at 0x7f44bd3d84f0>"
      ]
     },
     "metadata": {},
     "output_type": "display_data"
    },
    {
     "data": {
      "text/html": [
       "<style type=\"text/css\">\n",
       "#T_66d5b tr:nth-child(even) {\n",
       "  background: #dbf3ff;\n",
       "  color: #231f20;\n",
       "}\n",
       "#T_66d5b tr:nth-child(odd) {\n",
       "  background: #ffffff;\n",
       "  color: #231f20;\n",
       "}\n",
       "#T_66d5b caption {\n",
       "  text-align: center;\n",
       "  font-size: 150%;\n",
       "}\n",
       "#T_66d5b_row0_col0, #T_66d5b_row0_col1, #T_66d5b_row1_col0, #T_66d5b_row1_col1, #T_66d5b_row2_col0, #T_66d5b_row2_col1, #T_66d5b_row3_col0, #T_66d5b_row3_col1, #T_66d5b_row4_col0, #T_66d5b_row4_col1, #T_66d5b_row5_col0, #T_66d5b_row5_col1, #T_66d5b_row6_col0, #T_66d5b_row6_col1, #T_66d5b_row7_col0, #T_66d5b_row7_col1, #T_66d5b_row8_col0, #T_66d5b_row8_col1, #T_66d5b_row9_col0, #T_66d5b_row9_col1, #T_66d5b_row10_col0, #T_66d5b_row10_col1, #T_66d5b_row11_col0, #T_66d5b_row11_col1, #T_66d5b_row12_col0, #T_66d5b_row12_col1 {\n",
       "  text-align: left;\n",
       "  border: 1px #231f20 solid !important;\n",
       "  overwrite: False;\n",
       "}\n",
       "</style>\n",
       "<table id=\"T_66d5b\">\n",
       "  <caption>FABlib Config</caption>\n",
       "  <thead>\n",
       "  </thead>\n",
       "  <tbody>\n",
       "    <tr>\n",
       "      <td id=\"T_66d5b_row0_col0\" class=\"data row0 col0\" >Credential Manager</td>\n",
       "      <td id=\"T_66d5b_row0_col1\" class=\"data row0 col1\" >cm.fabric-testbed.net</td>\n",
       "    </tr>\n",
       "    <tr>\n",
       "      <td id=\"T_66d5b_row1_col0\" class=\"data row1 col0\" >Orchestrator</td>\n",
       "      <td id=\"T_66d5b_row1_col1\" class=\"data row1 col1\" >orchestrator.fabric-testbed.net</td>\n",
       "    </tr>\n",
       "    <tr>\n",
       "      <td id=\"T_66d5b_row2_col0\" class=\"data row2 col0\" >Token File</td>\n",
       "      <td id=\"T_66d5b_row2_col1\" class=\"data row2 col1\" >/home/fabric/.tokens.json</td>\n",
       "    </tr>\n",
       "    <tr>\n",
       "      <td id=\"T_66d5b_row3_col0\" class=\"data row3 col0\" >Project ID</td>\n",
       "      <td id=\"T_66d5b_row3_col1\" class=\"data row3 col1\" >073ee843-2310-45bd-a01f-a15d808827dc</td>\n",
       "    </tr>\n",
       "    <tr>\n",
       "      <td id=\"T_66d5b_row4_col0\" class=\"data row4 col0\" >Bastion Username</td>\n",
       "      <td id=\"T_66d5b_row4_col1\" class=\"data row4 col1\" >ashusri_0000051121</td>\n",
       "    </tr>\n",
       "    <tr>\n",
       "      <td id=\"T_66d5b_row5_col0\" class=\"data row5 col0\" >Bastion Private Key File</td>\n",
       "      <td id=\"T_66d5b_row5_col1\" class=\"data row5 col1\" >/home/fabric/work/fabric_config/fabric_bastion_key</td>\n",
       "    </tr>\n",
       "    <tr>\n",
       "      <td id=\"T_66d5b_row6_col0\" class=\"data row6 col0\" >Bastion Host</td>\n",
       "      <td id=\"T_66d5b_row6_col1\" class=\"data row6 col1\" >bastion-2.fabric-testbed.net</td>\n",
       "    </tr>\n",
       "    <tr>\n",
       "      <td id=\"T_66d5b_row7_col0\" class=\"data row7 col0\" >Bastion Private Key Passphrase</td>\n",
       "      <td id=\"T_66d5b_row7_col1\" class=\"data row7 col1\" >None</td>\n",
       "    </tr>\n",
       "    <tr>\n",
       "      <td id=\"T_66d5b_row8_col0\" class=\"data row8 col0\" >Slice Public Key File</td>\n",
       "      <td id=\"T_66d5b_row8_col1\" class=\"data row8 col1\" >/home/fabric/work/fabric_config/slice_key.pub</td>\n",
       "    </tr>\n",
       "    <tr>\n",
       "      <td id=\"T_66d5b_row9_col0\" class=\"data row9 col0\" >Slice Private Key File</td>\n",
       "      <td id=\"T_66d5b_row9_col1\" class=\"data row9 col1\" >/home/fabric/work/fabric_config/slice_key</td>\n",
       "    </tr>\n",
       "    <tr>\n",
       "      <td id=\"T_66d5b_row10_col0\" class=\"data row10 col0\" >Slice Private Key Passphrase</td>\n",
       "      <td id=\"T_66d5b_row10_col1\" class=\"data row10 col1\" >None</td>\n",
       "    </tr>\n",
       "    <tr>\n",
       "      <td id=\"T_66d5b_row11_col0\" class=\"data row11 col0\" >Log File</td>\n",
       "      <td id=\"T_66d5b_row11_col1\" class=\"data row11 col1\" >/tmp/fablib/fablib.log</td>\n",
       "    </tr>\n",
       "    <tr>\n",
       "      <td id=\"T_66d5b_row12_col0\" class=\"data row12 col0\" >Log Level</td>\n",
       "      <td id=\"T_66d5b_row12_col1\" class=\"data row12 col1\" >INFO</td>\n",
       "    </tr>\n",
       "  </tbody>\n",
       "</table>\n"
      ],
      "text/plain": [
       "<pandas.io.formats.style.Styler at 0x7f44bd3d84f0>"
      ]
     },
     "execution_count": 1,
     "metadata": {},
     "output_type": "execute_result"
    }
   ],
   "source": [
    "from fabrictestbed_extensions.fablib.fablib import FablibManager as fablib_manager\n",
    "fablib = fablib_manager() \n",
    "fablib.show_config()"
   ]
  },
  {
   "cell_type": "code",
   "execution_count": 2,
   "id": "299b0985-4f26-4fed-8ffb-064488bdc4ee",
   "metadata": {},
   "outputs": [],
   "source": [
    "!chmod 600 /home/fabric/work/fabric_config/fabric_bastion_key\n",
    "!chmod 600 /home/fabric/work/fabric_config/slice_key"
   ]
  },
  {
   "cell_type": "markdown",
   "id": "c028a219-0e68-4d5c-8e54-9a2d431bbd51",
   "metadata": {},
   "source": [
    "### Get resources"
   ]
  },
  {
   "cell_type": "code",
   "execution_count": 3,
   "id": "cc8e3d48-6e08-4254-879b-71ce2a3f81ec",
   "metadata": {},
   "outputs": [
    {
     "name": "stdout",
     "output_type": "stream",
     "text": [
      "You already have a slice named line-fig-9-slice_1 - skip the next part.\n",
      "-----------  ------------------------------------\n",
      "Slice Name   line-fig-9-slice_1\n",
      "Slice ID     cae828d3-6676-416b-8629-f3a1acb19337\n",
      "Slice State  StableOK\n",
      "Lease End    2023-01-06 23:30:19 +0000\n",
      "-----------  ------------------------------------\n"
     ]
    }
   ],
   "source": [
    "slice_name=\"line-fig-9-slice_7\"\n",
    "\n",
    "if fablib.get_slice(slice_name):\n",
    "    print(\"You already have a slice named %s - skip the next part.\" % slice_name)\n",
    "    slice = fablib.get_slice(name=slice_name)\n",
    "    print(slice)"
   ]
  },
  {
   "cell_type": "code",
   "execution_count": 4,
   "id": "ce82a4fb-60a3-4494-b23a-8676c02f6ca0",
   "metadata": {},
   "outputs": [],
   "source": [
    "slice = fablib.new_slice(name=slice_name)"
   ]
  },
  {
   "cell_type": "code",
   "execution_count": 5,
   "id": "937a6aa3-bb0f-4f19-a079-5e03c5eac6a1",
   "metadata": {},
   "outputs": [
    {
     "name": "stdout",
     "output_type": "stream",
     "text": [
      "Name      CPUs  Cores    RAM (G)    Disk (G)       Basic (100 Gbps NIC)    ConnectX-6 (100 Gbps x2 NIC)    ConnectX-5 (25 Gbps x2 NIC)    P4510 (NVMe 1TB)    Tesla T4 (GPU)    RTX6000 (GPU)\n",
      "------  ------  -------  ---------  -------------  ----------------------  ------------------------------  -----------------------------  ------------------  ----------------  ---------------\n",
      "MASS         6  174/192  1484/1536  60534/60600    368/381                 2/2                             2/2                            10/10               2/2               3/3\n",
      "SALT         6  176/192  1504/1536  60520/60600    375/381                 2/2                             2/2                            10/10               2/2               3/3\n",
      "NCSA         6  152/192  1376/1536  60100/60600    372/381                 2/2                             2/2                            10/10               2/2               3/3\n",
      "UTAH        10  242/320  2312/2560  115730/116400  620/635                 2/2                             4/4                            16/16               4/4               5/5\n",
      "WASH         6  118/192  1408/1536  60230/60600    372/381                 2/2                             2/2                            10/10               2/2               3/3\n",
      "DALL         6  142/192  1400/1536  60270/60600    366/381                 2/2                             2/2                            10/10               2/2               3/3\n",
      "MAX          0  0/0      0/0        0/0            0/0                     0/0                             0/0                            0/0                 0/0               0/0\n",
      "MICH         6  158/192  1464/1536  59970/60600    371/381                 2/2                             2/2                            10/10               2/2               3/3\n",
      "TACC        10  292/320  2472/2560  116244/116400  631/635                 2/2                             4/4                            16/16               4/4               6/6\n",
      "STAR         0  0/0      0/0        0/0            0/0                     0/0                             0/0                            0/0                 0/0               0/0\n",
      "AL2S         0  0/0      0/0        0/0            0/0                     0/0                             0/0                            0/0                 0/0               0/0\n",
      "GPN         10  304/320  2496/2560  116320/116400  627/635                 2/2                             4/4                            16/16               4/4               6/6\n",
      "UCSD        10  236/320  2228/2560  115480/116400  625/635                 2/2                             4/4                            16/16               3/4               6/6\n",
      "CLEM         6  192/192  1536/1536  60600/60600    381/381                 2/2                             2/2                            10/10               2/2               3/3\n",
      "FIU         10  272/320  2336/2560  116120/116400  630/635                 2/2                             4/4                            16/16               4/4               6/6\n"
     ]
    }
   ],
   "source": [
    "try:\n",
    "    print(f\"{fablib.list_sites()}\")\n",
    "except Exception as e:\n",
    "    print(f\"Exception: {e}\")"
   ]
  },
  {
   "cell_type": "code",
   "execution_count": 20,
   "id": "42a5e658-0170-486d-aa04-d118fe93c427",
   "metadata": {},
   "outputs": [
    {
     "data": {
      "text/plain": [
       "'MASS'"
      ]
     },
     "execution_count": 20,
     "metadata": {},
     "output_type": "execute_result"
    }
   ],
   "source": [
    "site_name = fablib.get_random_site()\n",
    "site_name"
   ]
  },
  {
   "cell_type": "code",
   "execution_count": 21,
   "id": "2d938a81-4aeb-45b8-b89f-38f54ef3d645",
   "metadata": {
    "tags": []
   },
   "outputs": [],
   "source": [
    "slice = fablib.new_slice(name=slice_name)"
   ]
  },
  {
   "cell_type": "code",
   "execution_count": 22,
   "id": "aee7746e-86bd-4003-abed-f76b7c1e6657",
   "metadata": {},
   "outputs": [],
   "source": [
    "node_names = [\"client\", \"emulator\", \"router\", \"server\"]\n",
    "for n in node_names:\n",
    "    slice.add_node(name=n, site=site_name, cores=4, ram=32, disk=100, image='default_ubuntu_20')"
   ]
  },
  {
   "cell_type": "code",
   "execution_count": 23,
   "id": "fa910650-70b4-4330-91df-1d15029ee1bd",
   "metadata": {},
   "outputs": [],
   "source": [
    "nets = [\n",
    "    {\"name\": \"client-em\",   \"nodes\": [\"client\", \"emulator\"]},\n",
    "    {\"name\": \"em-rtr\",      \"nodes\": [\"emulator\", \"router\"]},\n",
    "    {\"name\": \"rtr-server\",  \"nodes\": [\"router\", \"server\"]},\n",
    "]"
   ]
  },
  {
   "cell_type": "code",
   "execution_count": 24,
   "id": "53e84e80-3e9a-4844-ab5a-262710a8e6fc",
   "metadata": {},
   "outputs": [],
   "source": [
    "for n in nets:\n",
    "    ifaces = [slice.get_node(node).add_component(model=\"NIC_Basic\", name=n[\"name\"]+\"_\" + node).get_interfaces()[0] for node in n['nodes'] ]\n",
    "    slice.add_l2network(name=n[\"name\"], type='L2Bridge', interfaces=ifaces)"
   ]
  },
  {
   "cell_type": "code",
   "execution_count": 25,
   "id": "1b3606d8-552c-40a6-a2d2-e9fa11561cf8",
   "metadata": {},
   "outputs": [
    {
     "name": "stdout",
     "output_type": "stream",
     "text": [
      "\n",
      "-----------  ------------------------------------\n",
      "Slice Name   line-fig-9-slice_1\n",
      "Slice ID     cae828d3-6676-416b-8629-f3a1acb19337\n",
      "Slice State  StableOK\n",
      "Lease End    2023-01-03 19:12:37 +0000\n",
      "-----------  ------------------------------------\n",
      "\n",
      "Retry: 22, Time: 273 sec\n",
      "\n",
      "ID                                    Name      Site    Host                          Cores    RAM    Disk  Image              Management IP    State    Error\n",
      "------------------------------------  --------  ------  --------------------------  -------  -----  ------  -----------------  ---------------  -------  -------\n",
      "ac853e65-ebf9-4a6e-8019-8defe43fd4cb  client    MASS    mass-w3.fabric-testbed.net        4     32     100  default_ubuntu_20  205.172.170.84   Active\n",
      "67c40946-1321-4394-9e17-1bd10f4d9608  emulator  MASS    mass-w3.fabric-testbed.net        4     32     100  default_ubuntu_20  205.172.170.73   Active\n",
      "70cf4c80-a25b-41b0-92c8-5d1a191a359b  router    MASS    mass-w3.fabric-testbed.net        4     32     100  default_ubuntu_20  205.172.170.121  Active\n",
      "0ae4924d-61b6-4393-bda9-ef74b675b817  server    MASS    mass-w3.fabric-testbed.net        4     32     100  default_ubuntu_20  205.172.170.83   Active\n",
      "\n",
      "Time to stable 273 seconds\n",
      "Running post_boot_config ... Time to post boot config 291 seconds\n",
      "\n",
      "Name                            Node      Network       Bandwidth  VLAN    MAC                Physical OS Interface    OS Interface\n",
      "------------------------------  --------  ----------  -----------  ------  -----------------  -----------------------  --------------\n",
      "client-client-em_client-p1      client    client-em             0          16:1C:B2:47:36:AA  ens7                     ens7\n",
      "emulator-client-em_emulator-p1  emulator  client-em             0          1A:7B:24:80:68:AF  ens8                     ens8\n",
      "emulator-em-rtr_emulator-p1     emulator  em-rtr                0          16:67:F0:9A:52:92  ens7                     ens7\n",
      "router-em-rtr_router-p1         router    em-rtr                0          22:F4:A3:42:A7:4F  ens8                     ens8\n",
      "router-rtr-server_router-p1     router    rtr-server            0          1E:02:94:46:71:75  ens7                     ens7\n",
      "server-rtr-server_server-p1     server    rtr-server            0          26:3C:06:49:5C:8E  ens7                     ens7\n",
      "\n",
      "Time to print interfaces 309 seconds\n"
     ]
    },
    {
     "data": {
      "text/plain": [
       "'cae828d3-6676-416b-8629-f3a1acb19337'"
      ]
     },
     "execution_count": 25,
     "metadata": {},
     "output_type": "execute_result"
    }
   ],
   "source": [
    "slice.submit()"
   ]
  },
  {
   "cell_type": "code",
   "execution_count": 26,
   "id": "cc8c856f-8241-4272-8d0b-cdec44119160",
   "metadata": {},
   "outputs": [
    {
     "name": "stdout",
     "output_type": "stream",
     "text": [
      "Waiting for slice . Slice state: StableOK\n",
      "Waiting for ssh in slice . ssh successful\n"
     ]
    },
    {
     "data": {
      "text/plain": [
       "True"
      ]
     },
     "execution_count": 26,
     "metadata": {},
     "output_type": "execute_result"
    }
   ],
   "source": [
    "slice.wait_ssh(progress=True)"
   ]
  },
  {
   "cell_type": "code",
   "execution_count": 4,
   "id": "58e22fd1-8596-440a-a76e-8b54b12f5f79",
   "metadata": {},
   "outputs": [
    {
     "name": "stdout",
     "output_type": "stream",
     "text": [
      "-----------------  -------------------------------------------------------------------------------------------------------------------------\n",
      "ID                 ac853e65-ebf9-4a6e-8019-8defe43fd4cb\n",
      "Name               client\n",
      "Cores              4\n",
      "RAM                32\n",
      "Disk               100\n",
      "Image              default_ubuntu_20\n",
      "Image Type         qcow2\n",
      "Host               mass-w3.fabric-testbed.net\n",
      "Site               MASS\n",
      "Management IP      205.172.170.84\n",
      "Reservation State  Active\n",
      "Error Message\n",
      "SSH Command        ssh -i /home/fabric/work/fabric_config/slice_key -J ashusri_0000051121@bastion-1.fabric-testbed.net ubuntu@205.172.170.84\n",
      "-----------------  -------------------------------------------------------------------------------------------------------------------------\n",
      "-----------------  -------------------------------------------------------------------------------------------------------------------------\n",
      "ID                 67c40946-1321-4394-9e17-1bd10f4d9608\n",
      "Name               emulator\n",
      "Cores              4\n",
      "RAM                32\n",
      "Disk               100\n",
      "Image              default_ubuntu_20\n",
      "Image Type         qcow2\n",
      "Host               mass-w3.fabric-testbed.net\n",
      "Site               MASS\n",
      "Management IP      205.172.170.73\n",
      "Reservation State  Active\n",
      "Error Message\n",
      "SSH Command        ssh -i /home/fabric/work/fabric_config/slice_key -J ashusri_0000051121@bastion-1.fabric-testbed.net ubuntu@205.172.170.73\n",
      "-----------------  -------------------------------------------------------------------------------------------------------------------------\n",
      "-----------------  --------------------------------------------------------------------------------------------------------------------------\n",
      "ID                 70cf4c80-a25b-41b0-92c8-5d1a191a359b\n",
      "Name               router\n",
      "Cores              4\n",
      "RAM                32\n",
      "Disk               100\n",
      "Image              default_ubuntu_20\n",
      "Image Type         qcow2\n",
      "Host               mass-w3.fabric-testbed.net\n",
      "Site               MASS\n",
      "Management IP      205.172.170.121\n",
      "Reservation State  Active\n",
      "Error Message\n",
      "SSH Command        ssh -i /home/fabric/work/fabric_config/slice_key -J ashusri_0000051121@bastion-1.fabric-testbed.net ubuntu@205.172.170.121\n",
      "-----------------  --------------------------------------------------------------------------------------------------------------------------\n",
      "-----------------  -------------------------------------------------------------------------------------------------------------------------\n",
      "ID                 0ae4924d-61b6-4393-bda9-ef74b675b817\n",
      "Name               server\n",
      "Cores              4\n",
      "RAM                32\n",
      "Disk               100\n",
      "Image              default_ubuntu_20\n",
      "Image Type         qcow2\n",
      "Host               mass-w3.fabric-testbed.net\n",
      "Site               MASS\n",
      "Management IP      205.172.170.83\n",
      "Reservation State  Active\n",
      "Error Message\n",
      "SSH Command        ssh -i /home/fabric/work/fabric_config/slice_key -J ashusri_0000051121@bastion-1.fabric-testbed.net ubuntu@205.172.170.83\n",
      "-----------------  -------------------------------------------------------------------------------------------------------------------------\n"
     ]
    }
   ],
   "source": [
    "for node in slice.get_nodes():\n",
    "    print(f\"{node}\")"
   ]
  },
  {
   "cell_type": "markdown",
   "id": "ddf65a1c-4015-456d-b0c2-0513060f6abc",
   "metadata": {},
   "source": [
    "### Set up the line topology"
   ]
  },
  {
   "cell_type": "markdown",
   "id": "bba9f5c5-9bfa-4d2b-90b4-0da81bec9033",
   "metadata": {},
   "source": [
    "### Configure addresses"
   ]
  },
  {
   "cell_type": "code",
   "execution_count": 5,
   "id": "409ec6f0-bc59-4565-ad49-404da307c1c7",
   "metadata": {},
   "outputs": [],
   "source": [
    "if_conf = {\n",
    "    \"client-client-em_client-p1\":     {\"addr\": \"10.0.1.1\", \"subnet\": \"10.0.1.0/24\"},\n",
    "    \"emulator-client-em_emulator-p1\": {\"addr\": \"10.0.1.2\", \"subnet\": \"10.0.1.0/24\"},\n",
    "    \"emulator-em-rtr_emulator-p1\":    {\"addr\": \"10.0.2.1\", \"subnet\": \"10.0.2.0/24\"},\n",
    "    \"router-em-rtr_router-p1\":        {\"addr\": \"10.0.2.2\", \"subnet\": \"10.0.2.0/24\"},\n",
    "    \"router-rtr-server_router-p1\":    {\"addr\": \"10.0.3.2\", \"subnet\": \"10.0.3.0/24\"},\n",
    "    \"server-rtr-server_server-p1\":    {\"addr\": \"10.0.3.1\", \"subnet\": \"10.0.3.0/24\"}\n",
    "}"
   ]
  },
  {
   "cell_type": "code",
   "execution_count": 6,
   "id": "dbc6256b-b987-45f2-a6f3-195eba1e4177",
   "metadata": {},
   "outputs": [],
   "source": [
    "from ipaddress import ip_address, IPv4Address, IPv6Address, IPv4Network, IPv6Network\n",
    "for iface in slice.get_interfaces():\n",
    "    if_name = iface.get_name()\n",
    "    iface.ip_addr_add(addr=if_conf[if_name]['addr'], subnet=IPv4Network(if_conf[if_name]['subnet']))"
   ]
  },
  {
   "cell_type": "code",
   "execution_count": 7,
   "id": "920453b5-52a1-475a-a9f9-38edece4dc3f",
   "metadata": {},
   "outputs": [],
   "source": [
    "rt_conf = [\n",
    "    {\"name\": \"client\",   \"addr\": \"10.0.3.0/24\", \"gw\": \"10.0.1.2\"},\n",
    "    {\"name\": \"emulator\", \"addr\": \"10.0.3.0/24\", \"gw\": \"10.0.2.2\"},\n",
    "    {\"name\": \"router\",   \"addr\": \"10.0.1.0/24\", \"gw\": \"10.0.2.1\"},\n",
    "    {\"name\": \"server\",   \"addr\": \"10.0.1.0/24\", \"gw\": \"10.0.3.2\"}\n",
    "]"
   ]
  },
  {
   "cell_type": "code",
   "execution_count": 8,
   "id": "a5daed53-fb01-4f50-826e-cddaef3892c8",
   "metadata": {},
   "outputs": [],
   "source": [
    "for rt in rt_conf:\n",
    "    slice.get_node(name=rt['name']).ip_route_add(subnet=IPv4Network(rt['addr']), gateway=rt['gw'])"
   ]
  },
  {
   "cell_type": "code",
   "execution_count": 9,
   "id": "64c59b04-02b6-4e3b-86ca-7e6faea49403",
   "metadata": {},
   "outputs": [],
   "source": [
    "for n in slice.get_nodes():\n",
    "    n.execute(\"sudo sysctl -w net.ipv4.ip_forward=1\")"
   ]
  },
  {
   "cell_type": "code",
   "execution_count": 10,
   "id": "f8ba68bc-c155-4915-aeb4-eca01528d2ca",
   "metadata": {},
   "outputs": [],
   "source": [
    "for iface in slice.get_interfaces():\n",
    "    iface.ip_link_up()"
   ]
  },
  {
   "cell_type": "markdown",
   "id": "76fd328c-a7b4-4595-ad7e-7ab5e63e363a",
   "metadata": {},
   "source": [
    "### Install stuff"
   ]
  },
  {
   "cell_type": "code",
   "execution_count": 11,
   "id": "3d6f420d-d4da-4625-a4d8-dd7109b8b5d8",
   "metadata": {},
   "outputs": [],
   "source": [
    "apt_inst = [\n",
    "    {\"name\": \"client\",  \"packages\": [\"iperf3\", \"moreutils\"]},\n",
    "    {\"name\": \"router\",  \"packages\": [\"moreutils\",\"jq\"]},\n",
    "    {\"name\": \"server\",  \"packages\": [\"iperf3\", \"moreutils\"]},\n",
    "]"
   ]
  },
  {
   "cell_type": "code",
   "execution_count": 12,
   "id": "09287414-6f8b-4067-ad78-4ab7d43fec26",
   "metadata": {},
   "outputs": [],
   "source": [
    "for a in apt_inst:\n",
    "    slice.get_node(name=a['name']).execute(\"sudo apt update\")\n",
    "    slice.get_node(name=a['name']).execute(\"sudo apt -y install \" + \" \".join(a['packages']))"
   ]
  },
  {
   "cell_type": "code",
   "execution_count": 4,
   "id": "9ddf0a65-ce5c-49ee-a156-0bdac7b094ce",
   "metadata": {},
   "outputs": [],
   "source": [
    "import datetime\n",
    "from datetime import timedelta\n",
    "\n",
    "now = datetime.datetime.now(datetime.timezone.utc)\n",
    "end_date = (now + timedelta(days=4)).strftime(\"%Y-%m-%d %H:%M:%S %z\")\n",
    "\n",
    "slice.renew(end_date)"
   ]
  },
  {
   "cell_type": "markdown",
   "id": "8518a876-94a5-4222-ba97-0ff251d98020",
   "metadata": {},
   "source": [
    "### Experiment configuration"
   ]
  },
  {
   "cell_type": "code",
   "execution_count": 5,
   "id": "f7be58eb-e28e-4966-93ad-c9997e372340",
   "metadata": {},
   "outputs": [],
   "source": [
    "btl_capacity = 100 # mbit\n",
    "base_owd     = 20  # ms, to be applied in each direction"
   ]
  },
  {
   "cell_type": "code",
   "execution_count": 6,
   "id": "83725c3d-9744-4da3-b0f4-ffd935478db1",
   "metadata": {},
   "outputs": [
    {
     "data": {
      "text/plain": [
       "('', '')"
      ]
     },
     "execution_count": 6,
     "metadata": {},
     "output_type": "execute_result"
    }
   ],
   "source": [
    "slice.get_node(name=\"client\").execute(\"sudo modprobe tcp_bbr\")"
   ]
  },
  {
   "cell_type": "markdown",
   "id": "13a686a4-b6d6-4f75-8b11-828fc4726681",
   "metadata": {
    "tags": []
   },
   "source": [
    "### configure delay at emulator"
   ]
  },
  {
   "cell_type": "code",
   "execution_count": 16,
   "id": "b8bb5711-8c55-4162-9268-78ee16fd74df",
   "metadata": {},
   "outputs": [],
   "source": [
    "em = [\n",
    "    {\"name\": \"emulator\", \"if\": \"emulator-client-em_emulator-p1\"},\n",
    "    {\"name\": \"emulator\", \"if\": \"emulator-em-rtr_emulator-p1\"}\n",
    "]\n",
    "\n",
    "for e in em:\n",
    "    os_if_name = slice.get_interface(name=e['if']).get_os_interface()\n",
    "    cmds = \"sudo tc qdisc replace dev {iface} root netem delay {owd}ms limit 60000\".format(iface=os_if_name, owd=base_owd)\n",
    "    slice.get_node(name=e[\"name\"]).execute(cmds)"
   ]
  },
  {
   "cell_type": "markdown",
   "id": "2875fe71-199a-4027-a061-7d39a93921d7",
   "metadata": {},
   "source": [
    "### Iterate over bottleneck buffer size (in multiples of BDP) and number of BBR flows"
   ]
  },
  {
   "cell_type": "code",
   "execution_count": null,
   "id": "b4c93455-6b51-4248-bd5d-5dbd3c16a5b8",
   "metadata": {},
   "outputs": [],
   "source": [
    "%%capture output\n",
    "import time\n",
    "\n",
    "\n",
    "N_bdp = [0.5, 5, 10, 20, 30, 40, 50]\n",
    "\n",
    "#N_bdp = [0.5, 5, 10]\n",
    "\n",
    "d = 120\n",
    "\n",
    "trials = 1\n",
    "\n",
    "\n",
    "for i, n_bdp in enumerate(N_bdp):\n",
    "    \n",
    "    btl_limit    = int(1000*n_bdp*btl_capacity*2*base_owd/8)\n",
    "    \n",
    "    print(\"Buffer size = {num_bdp} times the BDP\".format(num_bdp=n_bdp));\n",
    "        \n",
    "    ## configure network\n",
    "    \n",
    "    btl = [\n",
    "        {\"name\": \"router\", \"if\": \"router-rtr-server_router-p1\"}\n",
    "    ]    \n",
    "    for b in btl:\n",
    "        os_if_name = slice.get_interface(name=b['if']).get_os_interface()\n",
    "        cmds = '''\n",
    "        sudo tc qdisc del dev {iface} root\n",
    "        sudo tc qdisc replace dev {iface} root handle 1: htb default 3 \n",
    "        sudo tc class add dev {iface} parent 1: classid 1:3 htb rate {capacity}mbit \n",
    "        sudo tc qdisc add dev {iface} parent 1:3 handle 3: bfifo limit {buffer} \n",
    "        '''.format(iface=os_if_name, capacity=btl_capacity, buffer=btl_limit)\n",
    "        slice.get_node(name=b[\"name\"]).execute(cmds)\n",
    "    \n",
    "    ## iterate over number of BBR flows\n",
    "    \n",
    "    for j in range(0, 51):\n",
    "        \n",
    "        print(\"Staring {num_trials} trials of experiment with {flows} BBR flows, each for {duration} seconds\".format(flows=j, duration=d, num_trials=trials))\n",
    "        \n",
    "        ## carry out multiple trials of each experiment\n",
    "        \n",
    "        sleep_time = 60*10\n",
    "        k=1\n",
    "\n",
    "        while k<= trials:\n",
    "            try:\n",
    "\n",
    "                # start BBR and non-BBR server instance\n",
    "                slice.get_node(name=\"server\").execute(\"iperf3 -s -1 -p 4000 -D\")\n",
    "                slice.get_node(name=\"server\").execute(\"iperf3 -s -1 -p 5000 -D\")\n",
    "                slice.get_node(name=\"client\").execute_thread(\"sleep 1; iperf3 -c 10.0.3.1 -t {duration} -P {flows} -C bbr -p 4000 -J > bbr-result-{num_bdp}-{num_bbr}-{trial_no}.json\".format(duration=d, flows=j, num_bdp = n_bdp, num_bbr=j, trial_no = k))\n",
    "                stdout, stderr = slice.get_node(name=\"client\").execute(\"sleep 1; iperf3 -c 10.0.3.1 -t {duration} -P {flows} -C cubic -p 5000 -i 0.1 -J > cubic-result-{num_bdp}-{num_bbr}-{trial_no}.json\".format(duration=d, flows=50-j, num_bdp = n_bdp, num_bbr=j, trial_no = k))\n",
    "                time.sleep(5)\n",
    "                k=k+1\n",
    "            except:\n",
    "                # repeat this attempt since it was not succesful, don't increment k\n",
    "\n",
    "                print(\"Something went wrong at time %f, waiting %d seconds then retrying with k=%d\" % (time.time(), sleep_time, k))\n",
    "                time.sleep(sleep_time)\n",
    "\n",
    "\n",
    "\n",
    "slice.get_node(name=\"client\").execute(\"mkdir figure_9_results; mv *.json ./figure_9_results\")\n",
    "\n",
    "slice.get_node(name=\"client\").execute(\"sudo apt update; sudo apt -y install jq\")\n",
    "\n",
    "# upload_file(local_file_path: str, remote_file_path: str, retry: int = 3, retry_interval: int = 10)\n",
    "\n",
    "# upload data processing files\n",
    "\n",
    "local_file_path_bbr = \"/home/fabric/work/cnert_bbr_project/figure_9_parallel/extract_bbr_values.sh\"\n",
    "local_file_path_cubic = \"/home/fabric/work/cnert_bbr_project/figure_9_parallel/extract_cubic_values.sh\"\n",
    "\n",
    "remote_file_path_bbr = \"/home/ubuntu/extract_bbr_values.sh\"\n",
    "remote_file_path_cubic = \"/home/ubuntu/extract_cubic_values.sh\"\n",
    "\n",
    "slice.get_node(name=\"client\").upload_file(local_file_path_bbr, remote_file_path_bbr)\n",
    "\n",
    "\n",
    "slice.get_node(name=\"client\").upload_file(local_file_path_cubic, remote_file_path_cubic)\n",
    "\n",
    "\n",
    "## do data processing\n",
    "\n",
    "slice.get_node(name=\"client\").execute(\"chmod +x extract_cubic_values.sh\")\n",
    "slice.get_node(name=\"client\").execute(\"chmod +x extract_bbr_values.sh\")\n",
    "\n",
    "slice.get_node(name=\"client\").execute(\"./extract_cubic_values.sh ./figure_9_results\")\n",
    "slice.get_node(name=\"client\").execute(\"./extract_bbr_values.sh ./figure_9_results\")\n",
    "\n",
    "\n",
    "## download processed data as csv files\n",
    "\n",
    "local_file_path_bbr = \"/home/fabric/work/cnert_bbr_project/figure_9_parallel/slice_7_results/bbr_results.csv\"\n",
    "local_file_path_cubic = \"/home/fabric/work/cnert_bbr_project/figure_9_parallel/slice_7_results/cubic_results.csv\"\n",
    "\n",
    "\n",
    "remote_file_path_bbr = \"/home/ubuntu/figure_9_results/bbr_results.csv\"\n",
    "remote_file_path_cubic = \"/home/ubuntu/figure_9_results/cubic_results.csv\"\n",
    "\n",
    "\n",
    "slice.get_node(name=\"client\").download_file(local_file_path_bbr, remote_file_path_bbr)\n",
    "\n",
    "\n",
    "slice.get_node(name=\"client\").download_file(local_file_path_cubic, remote_file_path_cubic)\n",
    "\n",
    "\n",
    "\n",
    "\n"
   ]
  },
  {
   "cell_type": "code",
   "execution_count": null,
   "id": "68625107-f600-4086-bdfe-99439695637f",
   "metadata": {},
   "outputs": [],
   "source": [
    "output.show()"
   ]
  },
  {
   "cell_type": "markdown",
   "id": "5853711f-02e8-4917-aed5-da33ed4d2ba8",
   "metadata": {},
   "source": [
    "### Re-run experiments with missing data"
   ]
  },
  {
   "cell_type": "code",
   "execution_count": null,
   "id": "1244745f-53bf-4d95-8ce4-cb87e9bca0c8",
   "metadata": {},
   "outputs": [],
   "source": [
    "import time\n",
    "import csv\n",
    "\n",
    "d = 120\n",
    "\n",
    "# open the CSV file in read mode\n",
    "with open('slice_7_results/bbr_results.csv', 'r') as file:  # also do this for bbr_results.csv\n",
    "    # create a CSV reader\n",
    "    reader = csv.reader(file)\n",
    "    \n",
    "    # get the column names from the first row\n",
    "    headers = next(reader)\n",
    "    \n",
    "    # find the index of the last column\n",
    "    last_column_index = len(headers) - 1\n",
    "    \n",
    "    # loop through the rows\n",
    "    for row in reader:\n",
    "        # check if the value in the last column is None\n",
    "        if row[last_column_index] == 'null':\n",
    "            # get the N_bdp and flow values\n",
    "            n_bdp = float(row[headers.index('N_bdp')])\n",
    "            flow = int(row[headers.index('flow')])\n",
    "            trial = int(row[headers.index('trial')])\n",
    "            \n",
    "            print(f'N_bdp: {n_bdp}, flow: {flow}, trial: {trial}')\n",
    "            \n",
    "            \n",
    "            btl_limit    = int(1000*n_bdp*btl_capacity*2*base_owd/8)\n",
    "    \n",
    "            print(\"Buffer size = {num_bdp} times the BDP\".format(num_bdp=n_bdp));\n",
    "        \n",
    "            ## configure network\n",
    "    \n",
    "            btl = [\n",
    "                {\"name\": \"router\", \"if\": \"router-rtr-server_router-p1\"}\n",
    "            ]    \n",
    "            for b in btl:\n",
    "                os_if_name = slice.get_interface(name=b['if']).get_os_interface()\n",
    "                cmds = '''\n",
    "                sudo tc qdisc del dev {iface} root\n",
    "                sudo tc qdisc replace dev {iface} root handle 1: htb default 3 \n",
    "                sudo tc class add dev {iface} parent 1: classid 1:3 htb rate {capacity}mbit \n",
    "                sudo tc qdisc add dev {iface} parent 1:3 handle 3: bfifo limit {buffer} \n",
    "                '''.format(iface=os_if_name, capacity=btl_capacity, buffer=btl_limit)\n",
    "                slice.get_node(name=b[\"name\"]).execute(cmds)\n",
    "                \n",
    "                # start BBR and non-BBR server instance\n",
    "                slice.get_node(name=\"server\").execute(\"iperf3 -s -1 -p 4000 -D\")\n",
    "                slice.get_node(name=\"server\").execute(\"iperf3 -s -1 -p 5000 -D\")\n",
    "                #slice.get_node(name=\"router\").execute_thread(router_script.format(expid=i, iface=os_if_name, duration=d))\n",
    "                slice.get_node(name=\"client\").execute_thread(\"sleep 1; iperf3 -c 10.0.3.1 -t {duration} -P {flows} -C bbr -p 4000 -J > bbr-result-{num_bdp}-{num_bbr}-{trial_no}.json\".format(duration=d, flows=flow, num_bdp = n_bdp, num_bbr=flow, trial_no = trial))\n",
    "                stdout, stderr = slice.get_node(name=\"client\").execute(\"sleep 1; iperf3 -c 10.0.3.1 -t {duration} -P {flows} -C cubic -p 5000 -i 0.1 -J > cubic-result-{num_bdp}-{num_bbr}-{trial_no}.json\".format(duration=d, flows=50-flow, num_bdp = n_bdp, num_bbr=flow, trial_no = trial))\n",
    "                time.sleep(5)\n",
    "\n"
   ]
  }
 ],
 "metadata": {
  "kernelspec": {
   "display_name": "Python 3 (ipykernel)",
   "language": "python",
   "name": "python3"
  },
  "language_info": {
   "codemirror_mode": {
    "name": "ipython",
    "version": 3
   },
   "file_extension": ".py",
   "mimetype": "text/x-python",
   "name": "python",
   "nbconvert_exporter": "python",
   "pygments_lexer": "ipython3",
   "version": "3.9.7"
  }
 },
 "nbformat": 4,
 "nbformat_minor": 5
}
