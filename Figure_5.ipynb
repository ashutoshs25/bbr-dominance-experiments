{
 "cells": [
  {
   "cell_type": "markdown",
   "id": "6022fcb1-a1d9-44f3-b1f1-0473c790dc9e",
   "metadata": {},
   "source": [
    "## To generate the result for experiment 1 at C = 100 Mbps, RTT = 5 ms"
   ]
  },
  {
   "cell_type": "markdown",
   "id": "d21040b1-5acc-460e-81b5-72b427dd82b9",
   "metadata": {},
   "source": [
    "## Prepare a line network"
   ]
  },
  {
   "cell_type": "code",
   "execution_count": 15,
   "id": "8b9126b9-45b8-4c5c-abf1-0b8427b14fd2",
   "metadata": {},
   "outputs": [
    {
     "name": "stdout",
     "output_type": "stream",
     "text": [
      "-----------------------------------  --------------------------------------------------\n",
      "credmgr_host                         cm.fabric-testbed.net\n",
      "orchestrator_host                    orchestrator.fabric-testbed.net\n",
      "fabric_token                         /home/fabric/.tokens.json\n",
      "project_id                           073ee843-2310-45bd-a01f-a15d808827dc\n",
      "bastion_username                     ashusri_0000051121\n",
      "bastion_key_filename                 /home/fabric/work/fabric_config/fabric_bastion_key\n",
      "bastion_public_addr                  bastion-2.fabric-testbed.net\n",
      "bastion_passphrase                   None\n",
      "slice_public_key_file                /home/fabric/work/fabric_config/slice_key.pub\n",
      "slice_private_key_file               /home/fabric/work/fabric_config/slice_key\n",
      "fabric_slice_private_key_passphrase  None\n",
      "fablib_log_file                      /tmp/fablib/fablib.log\n",
      "fablib_log_level                     INFO\n",
      "-----------------------------------  --------------------------------------------------\n"
     ]
    }
   ],
   "source": [
    "from fabrictestbed_extensions.fablib.fablib import FablibManager as fablib_manager\n",
    "fablib = fablib_manager() \n",
    "fablib.show_config()"
   ]
  },
  {
   "cell_type": "code",
   "execution_count": 16,
   "id": "34300c75-de01-40e9-bd3b-f239ef62e000",
   "metadata": {},
   "outputs": [],
   "source": [
    "!chmod 600 /home/fabric/work/fabric_config/fabric_bastion_key\n",
    "!chmod 600 /home/fabric/work/fabric_config/slice_key"
   ]
  },
  {
   "cell_type": "markdown",
   "id": "ecbebf8a-4d9d-4a94-acd3-5efb2a3e51e6",
   "metadata": {},
   "source": [
    "### Get resources"
   ]
  },
  {
   "cell_type": "code",
   "execution_count": null,
   "id": "cba6785c-4cf3-476d-a282-2aaa6dc12d12",
   "metadata": {},
   "outputs": [],
   "source": [
    "slice_name=\"bbr-dominance-line\"\n",
    "\n",
    "if fablib.get_slice(slice_name):\n",
    "    print(\"You already have a slice named %s - skip the next part.\" % slice_name)\n",
    "    slice = fablib.get_slice(name=slice_name)\n",
    "    print(slice)"
   ]
  },
  {
   "cell_type": "code",
   "execution_count": 17,
   "id": "4a02bb17-995f-4117-9208-4f5a5419b2d0",
   "metadata": {},
   "outputs": [],
   "source": [
    "slice_name=\"bbr-dominance-line\"\n",
    "slice = fablib.get_slice(slice_name)"
   ]
  },
  {
   "cell_type": "markdown",
   "id": "b74b9aba-27e2-43c9-b256-d7db65945b8a",
   "metadata": {
    "tags": []
   },
   "source": [
    "Find out about available resources:"
   ]
  },
  {
   "cell_type": "code",
   "execution_count": 10,
   "id": "a3d7db2e-29e1-481c-9ba4-a6f3c7a13ca6",
   "metadata": {},
   "outputs": [
    {
     "name": "stdout",
     "output_type": "stream",
     "text": [
      "Name      CPUs  Cores    RAM (G)    Disk (G)       Basic (100 Gbps NIC)    ConnectX-6 (100 Gbps x2 NIC)    ConnectX-5 (25 Gbps x2 NIC)    P4510 (NVMe 1TB)    Tesla T4 (GPU)    RTX6000 (GPU)\n",
      "------  ------  -------  ---------  -------------  ----------------------  ------------------------------  -----------------------------  ------------------  ----------------  ---------------\n",
      "MASS         6  158/192  1356/1536  60134/60600    362/381                 2/2                             2/2                            10/10               2/2               3/3\n",
      "SALT         6  176/192  1504/1536  60520/60600    375/381                 2/2                             2/2                            10/10               2/2               3/3\n",
      "NCSA         6  152/192  1376/1536  60100/60600    372/381                 2/2                             2/2                            10/10               2/2               3/3\n",
      "UTAH        10  242/320  2312/2560  115730/116400  620/635                 2/2                             4/4                            16/16               4/4               5/5\n",
      "WASH         6  118/192  1408/1536  60230/60600    372/381                 2/2                             2/2                            10/10               2/2               3/3\n",
      "DALL         6  142/192  1400/1536  60270/60600    366/381                 2/2                             2/2                            10/10               2/2               3/3\n",
      "MAX          0  0/0      0/0        0/0            0/0                     0/0                             0/0                            0/0                 0/0               0/0\n",
      "MICH         6  158/192  1464/1536  59970/60600    371/381                 2/2                             2/2                            10/10               2/2               3/3\n",
      "TACC        10  292/320  2472/2560  116244/116400  631/635                 2/2                             4/4                            16/16               4/4               6/6\n",
      "STAR         0  0/0      0/0        0/0            0/0                     0/0                             0/0                            0/0                 0/0               0/0\n",
      "AL2S         0  0/0      0/0        0/0            0/0                     0/0                             0/0                            0/0                 0/0               0/0\n",
      "GPN         10  304/320  2496/2560  116320/116400  627/635                 2/2                             4/4                            16/16               4/4               6/6\n",
      "UCSD        10  236/320  2228/2560  115480/116400  625/635                 2/2                             4/4                            16/16               3/4               6/6\n",
      "CLEM         6  192/192  1536/1536  60600/60600    381/381                 2/2                             2/2                            10/10               2/2               3/3\n",
      "FIU         10  272/320  2336/2560  116120/116400  630/635                 2/2                             4/4                            16/16               4/4               6/6\n"
     ]
    }
   ],
   "source": [
    "try:\n",
    "    print(f\"{fablib.list_sites()}\")\n",
    "except Exception as e:\n",
    "    print(f\"Exception: {e}\")"
   ]
  },
  {
   "cell_type": "markdown",
   "id": "fe9104ec-3fdf-437a-8be3-84e738c396b4",
   "metadata": {},
   "source": [
    "Pick a random site and show it. Re-run if you don't like the selection:"
   ]
  },
  {
   "cell_type": "code",
   "execution_count": 15,
   "id": "d21a2eb4-513f-48aa-9f5d-badd7e39821a",
   "metadata": {},
   "outputs": [
    {
     "data": {
      "text/plain": [
       "'DALL'"
      ]
     },
     "execution_count": 15,
     "metadata": {},
     "output_type": "execute_result"
    }
   ],
   "source": [
    "site_name = fablib.get_random_site()\n",
    "site_name"
   ]
  },
  {
   "cell_type": "code",
   "execution_count": 16,
   "id": "c1758c7a-4292-47fa-801e-717305801c94",
   "metadata": {
    "tags": []
   },
   "outputs": [],
   "source": [
    "slice = fablib.new_slice(name=slice_name)"
   ]
  },
  {
   "cell_type": "code",
   "execution_count": 17,
   "id": "01063d7f-41fe-4a30-a35d-58c10f453801",
   "metadata": {},
   "outputs": [],
   "source": [
    "node_names = [\"client\", \"emulator\", \"router\", \"server\"]\n",
    "for n in node_names:\n",
    "    slice.add_node(name=n, site=site_name, cores=4, ram=32, disk=100, image='default_ubuntu_20')"
   ]
  },
  {
   "cell_type": "code",
   "execution_count": 18,
   "id": "44cde4fd-c580-4077-9f0c-1515f107167c",
   "metadata": {},
   "outputs": [],
   "source": [
    "nets = [\n",
    "    {\"name\": \"client-em\",   \"nodes\": [\"client\", \"emulator\"]},\n",
    "    {\"name\": \"em-rtr\",      \"nodes\": [\"emulator\", \"router\"]},\n",
    "    {\"name\": \"rtr-server\",  \"nodes\": [\"router\", \"server\"]},\n",
    "]"
   ]
  },
  {
   "cell_type": "code",
   "execution_count": 19,
   "id": "2564134d-1c89-49d4-8140-ea97ef7d8570",
   "metadata": {},
   "outputs": [],
   "source": [
    "for n in nets:\n",
    "    ifaces = [slice.get_node(node).add_component(model=\"NIC_Basic\", name=n[\"name\"]+\"_\" + node).get_interfaces()[0] for node in n['nodes'] ]\n",
    "    slice.add_l2network(name=n[\"name\"], type='L2Bridge', interfaces=ifaces)"
   ]
  },
  {
   "cell_type": "code",
   "execution_count": null,
   "id": "be29a45d-b502-4e8a-8d76-14beb44be342",
   "metadata": {},
   "outputs": [],
   "source": [
    "slice.submit()"
   ]
  },
  {
   "cell_type": "code",
   "execution_count": 16,
   "id": "0021c732-bd17-4077-83da-2b2c42b4d57c",
   "metadata": {},
   "outputs": [
    {
     "name": "stdout",
     "output_type": "stream",
     "text": [
      "Waiting for slice . Slice state: StableOK\n",
      "Waiting for ssh in slice . ssh successful\n"
     ]
    },
    {
     "data": {
      "text/plain": [
       "True"
      ]
     },
     "execution_count": 16,
     "metadata": {},
     "output_type": "execute_result"
    }
   ],
   "source": [
    "slice.wait_ssh(progress=True)"
   ]
  },
  {
   "cell_type": "code",
   "execution_count": 18,
   "id": "16647b3d-ed70-425d-9c43-1293b88e6b10",
   "metadata": {},
   "outputs": [
    {
     "name": "stdout",
     "output_type": "stream",
     "text": [
      "-----------------  ----------------------------------------------------------------------------------------------------------------------------------------------\n",
      "ID                 66804ea9-e139-45e0-9ca8-92c7cc3d9c60\n",
      "Name               client\n",
      "Cores              4\n",
      "RAM                32\n",
      "Disk               100\n",
      "Image              default_ubuntu_20\n",
      "Image Type         qcow2\n",
      "Host               utah-w2.fabric-testbed.net\n",
      "Site               UTAH\n",
      "Management IP      2001:1948:417:7:f816:3eff:fe75:67ea\n",
      "Reservation State  Active\n",
      "Error Message\n",
      "SSH Command        ssh -i /home/fabric/work/fabric_config/slice_key -J ashusri_0000051121@bastion-2.fabric-testbed.net ubuntu@2001:1948:417:7:f816:3eff:fe75:67ea\n",
      "-----------------  ----------------------------------------------------------------------------------------------------------------------------------------------\n",
      "-----------------  ----------------------------------------------------------------------------------------------------------------------------------------------\n",
      "ID                 b9a8789a-156f-4ab2-8c66-bc1d99c8ef74\n",
      "Name               emulator\n",
      "Cores              4\n",
      "RAM                32\n",
      "Disk               100\n",
      "Image              default_ubuntu_20\n",
      "Image Type         qcow2\n",
      "Host               utah-w1.fabric-testbed.net\n",
      "Site               UTAH\n",
      "Management IP      2001:1948:417:7:f816:3eff:fe46:676e\n",
      "Reservation State  Active\n",
      "Error Message\n",
      "SSH Command        ssh -i /home/fabric/work/fabric_config/slice_key -J ashusri_0000051121@bastion-2.fabric-testbed.net ubuntu@2001:1948:417:7:f816:3eff:fe46:676e\n",
      "-----------------  ----------------------------------------------------------------------------------------------------------------------------------------------\n",
      "-----------------  ----------------------------------------------------------------------------------------------------------------------------------------------\n",
      "ID                 2932239d-f160-4001-9e05-438b3037332d\n",
      "Name               router\n",
      "Cores              4\n",
      "RAM                32\n",
      "Disk               100\n",
      "Image              default_ubuntu_20\n",
      "Image Type         qcow2\n",
      "Host               utah-w4.fabric-testbed.net\n",
      "Site               UTAH\n",
      "Management IP      2001:1948:417:7:f816:3eff:fef7:ae01\n",
      "Reservation State  Active\n",
      "Error Message\n",
      "SSH Command        ssh -i /home/fabric/work/fabric_config/slice_key -J ashusri_0000051121@bastion-2.fabric-testbed.net ubuntu@2001:1948:417:7:f816:3eff:fef7:ae01\n",
      "-----------------  ----------------------------------------------------------------------------------------------------------------------------------------------\n",
      "-----------------  ----------------------------------------------------------------------------------------------------------------------------------------------\n",
      "ID                 90a95f75-58e0-45ec-827c-ac2bc8ea6b0d\n",
      "Name               server\n",
      "Cores              4\n",
      "RAM                32\n",
      "Disk               100\n",
      "Image              default_ubuntu_20\n",
      "Image Type         qcow2\n",
      "Host               utah-w4.fabric-testbed.net\n",
      "Site               UTAH\n",
      "Management IP      2001:1948:417:7:f816:3eff:fe08:4844\n",
      "Reservation State  Active\n",
      "Error Message\n",
      "SSH Command        ssh -i /home/fabric/work/fabric_config/slice_key -J ashusri_0000051121@bastion-2.fabric-testbed.net ubuntu@2001:1948:417:7:f816:3eff:fe08:4844\n",
      "-----------------  ----------------------------------------------------------------------------------------------------------------------------------------------\n"
     ]
    }
   ],
   "source": [
    "for node in slice.get_nodes():\n",
    "    print(f\"{node}\")"
   ]
  },
  {
   "cell_type": "markdown",
   "id": "25fc4ca5-1ad4-4b4c-87bb-89b3802fc3d2",
   "metadata": {},
   "source": [
    "### Set up the line topology"
   ]
  },
  {
   "cell_type": "markdown",
   "id": "c28fb94c-d042-4a50-a5e6-857611c0da30",
   "metadata": {},
   "source": [
    "### Configure addresses"
   ]
  },
  {
   "cell_type": "code",
   "execution_count": 4,
   "id": "a6d8ef5c-dcfc-444f-ae6d-73c95efdaadd",
   "metadata": {},
   "outputs": [],
   "source": [
    "if_conf = {\n",
    "    \"client-client-em_client-p1\":     {\"addr\": \"10.0.1.1\", \"subnet\": \"10.0.1.0/24\"},\n",
    "    \"emulator-client-em_emulator-p1\": {\"addr\": \"10.0.1.2\", \"subnet\": \"10.0.1.0/24\"},\n",
    "    \"emulator-em-rtr_emulator-p1\":    {\"addr\": \"10.0.2.1\", \"subnet\": \"10.0.2.0/24\"},\n",
    "    \"router-em-rtr_router-p1\":        {\"addr\": \"10.0.2.2\", \"subnet\": \"10.0.2.0/24\"},\n",
    "    \"router-rtr-server_router-p1\":    {\"addr\": \"10.0.3.2\", \"subnet\": \"10.0.3.0/24\"},\n",
    "    \"server-rtr-server_server-p1\":    {\"addr\": \"10.0.3.1\", \"subnet\": \"10.0.3.0/24\"}\n",
    "}"
   ]
  },
  {
   "cell_type": "code",
   "execution_count": 5,
   "id": "09e665f6-1097-4cb5-bd75-a68aafd4f372",
   "metadata": {},
   "outputs": [],
   "source": [
    "from ipaddress import ip_address, IPv4Address, IPv6Address, IPv4Network, IPv6Network\n",
    "for iface in slice.get_interfaces():\n",
    "    if_name = iface.get_name()\n",
    "    iface.ip_addr_add(addr=if_conf[if_name]['addr'], subnet=IPv4Network(if_conf[if_name]['subnet']))"
   ]
  },
  {
   "cell_type": "code",
   "execution_count": 9,
   "id": "fb8a9557-81f2-43c8-ada4-3dbbf0a48ef8",
   "metadata": {},
   "outputs": [],
   "source": [
    "for iface in slice.get_interfaces():\n",
    "    iface.ip_link_up()"
   ]
  },
  {
   "cell_type": "code",
   "execution_count": 6,
   "id": "e71a1fca-46da-4818-ae18-95f91c21834b",
   "metadata": {},
   "outputs": [],
   "source": [
    "rt_conf = [\n",
    "    {\"name\": \"client\",   \"addr\": \"10.0.3.0/24\", \"gw\": \"10.0.1.2\"},\n",
    "    {\"name\": \"emulator\", \"addr\": \"10.0.3.0/24\", \"gw\": \"10.0.2.2\"},\n",
    "    {\"name\": \"router\",   \"addr\": \"10.0.1.0/24\", \"gw\": \"10.0.2.1\"},\n",
    "    {\"name\": \"server\",   \"addr\": \"10.0.1.0/24\", \"gw\": \"10.0.3.2\"}\n",
    "]"
   ]
  },
  {
   "cell_type": "code",
   "execution_count": 7,
   "id": "76c14947-f13b-4c97-9787-a30f4b4af87b",
   "metadata": {},
   "outputs": [],
   "source": [
    "for rt in rt_conf:\n",
    "    slice.get_node(name=rt['name']).ip_route_add(subnet=IPv4Network(rt['addr']), gateway=rt['gw'])"
   ]
  },
  {
   "cell_type": "code",
   "execution_count": 8,
   "id": "eea5392e-7155-48d9-a15e-31b63ca4efa1",
   "metadata": {},
   "outputs": [],
   "source": [
    "for n in slice.get_nodes():\n",
    "    n.execute(\"sudo sysctl -w net.ipv4.ip_forward=1\")"
   ]
  },
  {
   "cell_type": "markdown",
   "id": "a7b4dc81-0d89-4f6d-87da-cd9a41a690d4",
   "metadata": {},
   "source": [
    "### Install stuff"
   ]
  },
  {
   "cell_type": "code",
   "execution_count": 10,
   "id": "8edc6eaf-dffe-4ca6-bc05-85a7a35bde9e",
   "metadata": {},
   "outputs": [],
   "source": [
    "apt_inst = [\n",
    "    {\"name\": \"client\",  \"packages\": [\"iperf3\", \"moreutils\"]},\n",
    "    {\"name\": \"router\",  \"packages\": [\"moreutils\",\"jq\"]},\n",
    "    {\"name\": \"server\",  \"packages\": [\"iperf3\", \"moreutils\"]},\n",
    "]"
   ]
  },
  {
   "cell_type": "code",
   "execution_count": 11,
   "id": "0221f669-8877-40ed-9da9-8db9eccff5b3",
   "metadata": {},
   "outputs": [],
   "source": [
    "for a in apt_inst:\n",
    "    slice.get_node(name=a['name']).execute(\"sudo apt update\")\n",
    "    slice.get_node(name=a['name']).execute(\"sudo apt -y install \" + \" \".join(a['packages']))"
   ]
  },
  {
   "cell_type": "markdown",
   "id": "6f6b68e5-868d-44e6-a313-e4b4b3a7c911",
   "metadata": {},
   "source": [
    "#### Renew slice if needed"
   ]
  },
  {
   "cell_type": "code",
   "execution_count": 4,
   "id": "0c78eaf8-4ede-4f2d-87e6-9645a8d88eec",
   "metadata": {},
   "outputs": [],
   "source": [
    "import datetime\n",
    "from datetime import timedelta\n",
    "\n",
    "now = datetime.datetime.now(datetime.timezone.utc)\n",
    "end_date = (now + timedelta(days=4)).strftime(\"%Y-%m-%d %H:%M:%S %z\")\n",
    "\n",
    "slice.renew(end_date)"
   ]
  },
  {
   "cell_type": "markdown",
   "id": "bfd35340-8e3c-4c0b-bf5d-d24c3dd58d2e",
   "metadata": {},
   "source": [
    "### Experiment configuration"
   ]
  },
  {
   "cell_type": "code",
   "execution_count": 19,
   "id": "05f0ac66-4924-4f64-a149-579109ba92ab",
   "metadata": {},
   "outputs": [],
   "source": [
    "btl_capacity = 100 # mbit\n",
    "base_owd     = 2.5  # ms, to be applied in each direction\n",
    "n_bdp        = 2\n",
    "btl_limit    = int(1000*n_bdp*btl_capacity*2*base_owd/8)"
   ]
  },
  {
   "cell_type": "markdown",
   "id": "d2d2f3bd-2e08-44aa-b4b9-5a487d9a9fba",
   "metadata": {},
   "source": [
    "### Configure network"
   ]
  },
  {
   "cell_type": "markdown",
   "id": "09cd029d-7fb8-4b2b-842d-f04f53a20b60",
   "metadata": {},
   "source": [
    "Set up bottleneck at router:"
   ]
  },
  {
   "cell_type": "code",
   "execution_count": 20,
   "id": "ac329c81-6160-4e37-b923-521a9375f131",
   "metadata": {},
   "outputs": [],
   "source": [
    "btl = [\n",
    "    {\"name\": \"router\", \"if\": \"router-rtr-server_router-p1\"}\n",
    "]    \n",
    "for b in btl:\n",
    "    os_if_name = slice.get_interface(name=b['if']).get_os_interface()\n",
    "    cmds = '''\n",
    "    sudo tc qdisc del dev {iface} root\n",
    "    sudo tc qdisc replace dev {iface} root handle 1: htb default 3 \n",
    "    sudo tc class add dev {iface} parent 1: classid 1:3 htb rate {capacity}mbit \n",
    "    sudo tc qdisc add dev {iface} parent 1:3 handle 3: bfifo limit {buffer} \n",
    "    '''.format(iface=os_if_name, capacity=btl_capacity, buffer=btl_limit)\n",
    "    slice.get_node(name=b[\"name\"]).execute(cmds)"
   ]
  },
  {
   "cell_type": "markdown",
   "id": "6b10836f-d305-4325-ae06-7fb8e5ca4a40",
   "metadata": {},
   "source": [
    "Set up delay at emulator:"
   ]
  },
  {
   "cell_type": "code",
   "execution_count": 21,
   "id": "947e0ecd-98a0-4ae1-8df4-36b0d3b6a0dd",
   "metadata": {},
   "outputs": [],
   "source": [
    "em = [\n",
    "    {\"name\": \"emulator\", \"if\": \"emulator-client-em_emulator-p1\"},\n",
    "    {\"name\": \"emulator\", \"if\": \"emulator-em-rtr_emulator-p1\"}\n",
    "]    \n",
    "for e in em:\n",
    "    os_if_name = slice.get_interface(name=e['if']).get_os_interface()\n",
    "    cmds = \"sudo tc qdisc replace dev {iface} root netem delay {owd}ms limit 60000\".format(iface=os_if_name, owd=base_owd, buffer=btl_limit)\n",
    "    slice.get_node(name=e[\"name\"]).execute(cmds)"
   ]
  },
  {
   "cell_type": "code",
   "execution_count": 22,
   "id": "4a1237ee-2fb7-4607-88cc-30490bf399c3",
   "metadata": {},
   "outputs": [
    {
     "data": {
      "text/plain": [
       "('', '')"
      ]
     },
     "execution_count": 22,
     "metadata": {},
     "output_type": "execute_result"
    }
   ],
   "source": [
    "slice.get_node(name=\"client\").execute(\"sudo modprobe tcp_bbr\")"
   ]
  },
  {
   "cell_type": "markdown",
   "id": "e451b000-1a55-4a6d-be00-4c49f5a6bd0b",
   "metadata": {},
   "source": [
    "### Iterate over number of BBR flows"
   ]
  },
  {
   "cell_type": "code",
   "execution_count": 24,
   "id": "0c822c35-d4d6-4d41-9464-aa868bf49fdd",
   "metadata": {},
   "outputs": [
    {
     "name": "stdout",
     "output_type": "stream",
     "text": [
      "Staring experiment with 1 BBR flows, for 200 seconds\n",
      "Staring experiment with 2 BBR flows, for 200 seconds\n",
      "Staring experiment with 3 BBR flows, for 200 seconds\n",
      "Staring experiment with 4 BBR flows, for 200 seconds\n",
      "Staring experiment with 5 BBR flows, for 200 seconds\n",
      "Staring experiment with 6 BBR flows, for 200 seconds\n",
      "Staring experiment with 7 BBR flows, for 200 seconds\n",
      "Staring experiment with 8 BBR flows, for 200 seconds\n",
      "Staring experiment with 9 BBR flows, for 200 seconds\n",
      "Staring experiment with 10 BBR flows, for 200 seconds\n"
     ]
    }
   ],
   "source": [
    "import time\n",
    "\n",
    "d = 200\n",
    "slice.get_node(name=\"server\").execute(\"killall iperf3\")\n",
    "os_if_name = slice.get_interface(name=\"router-rtr-server_router-p1\").get_os_interface()\n",
    "router_script=\"rm queue-{expid}.txt; start_time=$(date +%s); while true; do tc -p -s -d qdisc show dev ens8 | tr -d '\\n' | ts '%.s' | tee -a queue-{expid}.txt; echo \"\" | tee -a queue-{expid}.txt; current_time=$(date +%s); elapsed_time=$((current_time - start_time));  if [ $elapsed_time -ge {duration} ]; then break; fi; sleep 0.1; done;\"\n",
    "\n",
    "ss_script=\"rm -f {expid}-ss.txt; start_time=$(date +%s); while true; do ss --no-header -eipn dst 10.0.3.1 | ts '%.s' | tee -a {expid}-ss.txt; current_time=$(date +%s); elapsed_time=$((current_time - start_time));  if [ $elapsed_time -ge {duration} ]; then break; fi; sleep 0.1; done;\"\n",
    "\n",
    "\n",
    "for i in range(1, 11):\n",
    "    print(\"Staring experiment with {flows} BBR flows, for {duration} seconds\".format(flows=i, duration=d))\n",
    "    # start BBR and non-BBR server instance\n",
    "    slice.get_node(name=\"server\").execute(\"iperf3 -s -1 -p 4000 -D\")\n",
    "    slice.get_node(name=\"server\").execute(\"iperf3 -s -1 -p 5000 -D\")\n",
    "    slice.get_node(name=\"router\").execute_thread(router_script.format(expid=i, iface=os_if_name, duration=d))\n",
    "    slice.get_node(name=\"client\").execute_thread(ss_script.format(expid=i, duration=d))\n",
    "    slice.get_node(name=\"client\").execute_thread(\"sleep 1; iperf3 -c 10.0.3.1 -t {duration} -P {flows} -C bbr -p 4000 -J > bbr-result-{expid}.json\".format(duration=d, flows=i, expid=i))\n",
    "    stdout, stderr = slice.get_node(name=\"client\").execute(\"sleep 1; iperf3 -c 10.0.3.1 -t {duration} -P {flows} -C cubic -p 5000 -i 0.1 -J > cubic-result-{expid}.json\".format(duration=d, flows=10-i, expid=i))\n",
    "    time.sleep(5)\n",
    "    \n"
   ]
  },
  {
   "cell_type": "markdown",
   "id": "28fc1ec0-eade-44ed-91bb-dc03e521cff6",
   "metadata": {},
   "source": [
    "#### Download experiment data from the FABRIC nodes to your local directory on JupyterHub"
   ]
  },
  {
   "cell_type": "code",
   "execution_count": 26,
   "id": "9099ce03-e1f0-402f-bc71-cca51e19f9ad",
   "metadata": {},
   "outputs": [],
   "source": [
    "for i in range(1, 11):\n",
    "    \n",
    "    slice.get_node(name=\"client\").download_file(\"/home/fabric/work/cnert_bbr_project/figure_8_results/100Mbps,5ms/bbr-result-{expid}.json\".format(expid=i),\"/home/ubuntu/bbr-result-{expid}.json\".format(expid=i))\n",
    "    slice.get_node(name=\"client\").download_file(\"/home/fabric/work/cnert_bbr_project/figure_8_results/100Mbps,5ms/cubic-result-{expid}.json\".format(expid=i),\"/home/ubuntu/cubic-result-{expid}.json\".format(expid=i))\n",
    "    slice.get_node(name=\"router\").download_file(\"/home/fabric/work/cnert_bbr_project/figure_8_results/100Mbps,5ms/queue-{expid}.txt\".format(expid=i),\"/home/ubuntu/queue-{expid}.txt\".format(expid=i))\n",
    "    slice.get_node(name=\"router\").execute(\"cat queue-{expid}.txt | awk '{{print $1\\\",\\\"$24$30\\\",\\\"$31}}' | tr -d 'b' | tr -d 'p' | sed 's/K/000/' | sed 's/M/000000/' > queue-{expid}.csv\".format(expid=i))\n",
    "    slice.get_node(name=\"router\").download_file(\"/home/fabric/work/cnert_bbr_project/figure_8_results/100Mbps,5ms/queue-{expid}.csv\".format(expid=i),\"/home/ubuntu/queue-{expid}.csv\".format(expid=i))"
   ]
  },
  {
   "cell_type": "markdown",
   "id": "cd354464-7e09-4ae2-923a-bf9620dca6ef",
   "metadata": {},
   "source": [
    "### Analyze data and generate plot"
   ]
  },
  {
   "cell_type": "code",
   "execution_count": 2,
   "id": "35e4f5e0-6a2d-45bc-b776-78aaeb034f71",
   "metadata": {},
   "outputs": [
    {
     "name": "stdout",
     "output_type": "stream",
     "text": [
      "1\n",
      "2\n",
      "3\n",
      "4\n",
      "5\n",
      "6\n",
      "7\n",
      "8\n",
      "9\n"
     ]
    },
    {
     "data": {
      "image/png": "[encoded data removed]",
      "text/plain": [
       "<Figure size 576x432 with 1 Axes>"
      ]
     },
     "metadata": {
      "needs_background": "light"
     },
     "output_type": "display_data"
    },
    {
     "data": {
      "image/png": "[encoded data removed]",
      "text/plain": [
       "<Figure size 576x432 with 1 Axes>"
      ]
     },
     "metadata": {
      "needs_background": "light"
     },
     "output_type": "display_data"
    }
   ],
   "source": [
    "btl_capacity = 100 # mbit\n",
    "base_owd     = 2.5  # ms, to be applied in each direction\n",
    "n_bdp        = 2\n",
    "btl_limit    = int(1000*n_bdp*btl_capacity*2*base_owd/8)\n",
    "\n",
    "import json\n",
    "\n",
    "import numpy as np\n",
    "\n",
    "import matplotlib.pyplot as plt\n",
    "\n",
    "import pandas as pd\n",
    "\n",
    "scenario ='100Mbps,5ms' # specify network scenario\n",
    "\n",
    "per_flow_throughput_bbr = np.zeros(10)\n",
    "per_flow_throughput_cubic = np.zeros(9)\n",
    "average_queue_delay = np.zeros(10)\n",
    "\n",
    "\n",
    "for i in range(1,10):\n",
    "    # Load the JSON output file into a Python object\n",
    "    with open(\"figure_8_results/{scenario}/bbr-result-{expid}.json\".format(expid=i, scenario=scenario), \"r\") as f:\n",
    "        iperf3_data = json.load(f)\n",
    "\n",
    "\n",
    "    per_flow_throughput_bbr[i-1] = iperf3_data['end']['sum_received']['bits_per_second']/(1000000*i)\n",
    "    #print(f\"per_flow_throughput_bbr-{i}: {iperf3_data['end']['sum_received']['bits_per_second']/(1000000*i)} Mbps\")\n",
    "    \n",
    "    with open(\"figure_8_results/{scenario}/cubic-result-{expid}.json\".format(expid=i, scenario=scenario), \"r\") as f:\n",
    "        iperf3_data = json.load(f)\n",
    "    #print(f\"per_flow_throughput_cubic-{i}: {iperf3_data['end']['sum_received']['bits_per_second']/(1000000*i)} Mbps\")\n",
    "\n",
    "    per_flow_throughput_cubic[i-1] = iperf3_data['end']['sum_received']['bits_per_second']/(1000000*(10-i))\n",
    "    \n",
    "    print(i)\n",
    "    # Load the CSV file into a pandas DataFrame\n",
    "    df = pd.read_csv(\"figure_8_results/{scenario}/queue-{expid}.csv\".format(expid=i, scenario=scenario), header=None, names=[\"timestamp\", \"c2\",\"backlog\",\"c4\"])\n",
    "\n",
    "    average_queue_delay[i-1] = (df[\"backlog\"].mean()*8)/(btl_capacity*1000)\n",
    "    \n",
    "with open(\"figure_8_results/{scenario}/bbr-result-{expid}.json\".format(expid=10, scenario=scenario), \"r\") as f:\n",
    "     iperf3_data = json.load(f)\n",
    "\n",
    "\n",
    "per_flow_throughput_bbr[i] = iperf3_data['end']['sum_received']['bits_per_second']/(1000000*i)\n",
    "\n",
    "df = pd.read_csv(\"figure_8_results/{scenario}/queue-{expid}.csv\".format(expid=i, scenario=scenario), header=None, names=[\"timestamp\", \"c2\",\"backlog\",\"c4\"])\n",
    "\n",
    "average_queue_delay[i] = (df[\"backlog\"].mean()*8)/(btl_capacity*1000)\n",
    "\n",
    "plt.rcParams.update({'font.size': 22})\n",
    "\n",
    "fontsize=22\n",
    "\n",
    "linewidth=2.0\n",
    "\n",
    "labelsize=22\n",
    "\n",
    "markersize = 10\n",
    "\n",
    "\n",
    "x1 = np.arange(1, 11)\n",
    "x2 = np.arange(1, 10)\n",
    "# Create the figure with a specific size\n",
    "fig, ax = plt.subplots(figsize=(8,6))\n",
    "\n",
    "# Plot the data\n",
    "ax.plot(x1, per_flow_throughput_bbr, label='BBR', linewidth=linewidth, marker ='s', markersize=10)\n",
    "ax.plot(x2, per_flow_throughput_cubic, label='Cubic', linewidth=linewidth, marker ='*', markersize=10)\n",
    "\n",
    "# Set the font size of the tick labels\n",
    "ax.tick_params(axis='both', which='major', labelsize=labelsize)\n",
    "\n",
    "# Set the x-axis and y-axis labels\n",
    "ax.set_xlabel('Number of BBR flows at the bottleneck', fontsize=fontsize)\n",
    "ax.set_ylabel('Average per-flow throughput (Mbps)', fontsize=fontsize, labelpad=20)\n",
    "\n",
    "# Leave a gap between the y-axis label and the tick labels\n",
    "#ax.yaxis.set_label_coords(-0.1, 0.5, transform=ax.transAxes, labelpad=20)\n",
    "\n",
    "# Add a legend\n",
    "ax.legend(fontsize=fontsize)\n",
    "\n",
    "# Add grid lines\n",
    "ax.grid()\n",
    "\n",
    "\n",
    "plt.savefig('figure_8a_5ms.pdf')\n",
    "\n",
    "\n",
    "# Create the figure with a specific size\n",
    "fig, ax = plt.subplots(figsize=(8,6))\n",
    "\n",
    "x1 = np.arange(1, 11)\n",
    "ax.plot(x1, average_queue_delay, linewidth=linewidth, marker ='x', markersize=10, color = \"green\",  )\n",
    "ax.tick_params(axis='both', which='major', labelsize=labelsize)\n",
    "ax.set_xlabel('Number of BBR flows at the bottleneck (Mbps)', fontsize=fontsize)\n",
    "ax.set_ylabel('Average queueing delay (ms)', fontsize=fontsize,  labelpad=20)\n",
    "plt.ylim(0, 80)\n",
    "ax.grid()\n",
    "\n",
    "\n",
    "plt.savefig('figure_8b_5ms.pdf')"
   ]
  },
  {
   "cell_type": "code",
   "execution_count": null,
   "id": "cb679129-cfd5-486b-8436-92e56bf2bcb3",
   "metadata": {},
   "outputs": [],
   "source": []
  }
 ],
 "metadata": {
  "kernelspec": {
   "display_name": "Python 3 (ipykernel)",
   "language": "python",
   "name": "python3"
  },
  "language_info": {
   "codemirror_mode": {
    "name": "ipython",
    "version": 3
   },
   "file_extension": ".py",
   "mimetype": "text/x-python",
   "name": "python",
   "nbconvert_exporter": "python",
   "pygments_lexer": "ipython3",
   "version": "3.9.7"
  }
 },
 "nbformat": 4,
 "nbformat_minor": 5
}
